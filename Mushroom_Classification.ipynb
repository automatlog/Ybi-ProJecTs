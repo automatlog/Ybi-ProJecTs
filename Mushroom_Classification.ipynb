{
  "nbformat": 4,
  "nbformat_minor": 0,
  "metadata": {
    "colab": {
      "provenance": [],
      "authorship_tag": "ABX9TyOlU8J4QCtP0mkqP6PXQAcK",
      "include_colab_link": true
    },
    "kernelspec": {
      "name": "python3",
      "display_name": "Python 3"
    },
    "language_info": {
      "name": "python"
    }
  },
  "cells": [
    {
      "cell_type": "markdown",
      "metadata": {
        "id": "view-in-github",
        "colab_type": "text"
      },
      "source": [
        "<a href=\"https://colab.research.google.com/github/automatlog/Ybi-ProJecTs/blob/main/Mushroom_Classification.ipynb\" target=\"_parent\"><img src=\"https://colab.research.google.com/assets/colab-badge.svg\" alt=\"Open In Colab\"/></a>"
      ]
    },
    {
      "cell_type": "markdown",
      "source": [
        "#**Mushroom_Classification**"
      ],
      "metadata": {
        "id": "luQnePNth7Ju"
      }
    },
    {
      "cell_type": "markdown",
      "source": [
        "Context Although this dataset was originally contributed to the UCI Machine Learning repository nearly 30 years ago, mushroom hunting(otherwise known as \"shrooming\") is enjoying new peaks in popularity.\n",
        "\n",
        "Learn which features spell certain death and which are most palatable in this dataset of mushroom characteristics.\n",
        " And how certain can your model be?\n",
        "\n",
        "Content This dataset includes description of hypothetical samples corresponding to 23 species of gilled mushrooms in the Agaricus and Lepiota Family Mushroom drawn from The Audubon Society Field Guide to North American Mushrooms (1981).\n",
        "\n",
        "Each species is identified as definitely edible, definitely poisonous or of unknown edibility and not recommended. This latter class was combined with the poisonous one.\n",
        "\n",
        "The Guide clearly states that there is no simple rule for determining the edibility of a mushroom; no rule like \"leaflets three, let it be\" for Poisonous Oak and Ivy."
      ],
      "metadata": {
        "id": "WUWLHS6LhpBG"
      }
    },
    {
      "cell_type": "code",
      "execution_count": 1,
      "metadata": {
        "id": "xbgby8ebf_QV"
      },
      "outputs": [],
      "source": [
        "import pandas as pd"
      ]
    },
    {
      "cell_type": "code",
      "source": [
        "pd.read_csv('https://www.dropbox.com/s/81ggs49w6255qb5/MushroomClassification.csv?dl=1')"
      ],
      "metadata": {
        "id": "OzERLf9GiDB9"
      },
      "execution_count": null,
      "outputs": []
    }
  ]
}